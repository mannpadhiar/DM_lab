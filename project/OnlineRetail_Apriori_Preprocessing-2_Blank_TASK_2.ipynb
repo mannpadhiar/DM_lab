{
 "cells": [
  {
   "cell_type": "markdown",
   "id": "ea4af35f",
   "metadata": {},
   "source": [
    "# 🧺 Online Retail Dataset (Apriori Preprocessing) - TASK 2\n",
    "**Dataset**: https://www.kaggle.com/datasets/vijayuv/onlineretail\n",
    "\n"
   ]
  },
  {
   "cell_type": "markdown",
   "id": "6135d78b",
   "metadata": {},
   "source": [
    "# Step 1: Load Data"
   ]
  },
  {
   "cell_type": "code",
   "execution_count": 2,
   "id": "683445f6",
   "metadata": {},
   "outputs": [
    {
     "data": {
      "text/html": [
       "<div>\n",
       "<style scoped>\n",
       "    .dataframe tbody tr th:only-of-type {\n",
       "        vertical-align: middle;\n",
       "    }\n",
       "\n",
       "    .dataframe tbody tr th {\n",
       "        vertical-align: top;\n",
       "    }\n",
       "\n",
       "    .dataframe thead th {\n",
       "        text-align: right;\n",
       "    }\n",
       "</style>\n",
       "<table border=\"1\" class=\"dataframe\">\n",
       "  <thead>\n",
       "    <tr style=\"text-align: right;\">\n",
       "      <th></th>\n",
       "      <th>InvoiceNo</th>\n",
       "      <th>StockCode</th>\n",
       "      <th>Description</th>\n",
       "      <th>Quantity</th>\n",
       "      <th>InvoiceDate</th>\n",
       "      <th>UnitPrice</th>\n",
       "      <th>CustomerID</th>\n",
       "      <th>Country</th>\n",
       "    </tr>\n",
       "  </thead>\n",
       "  <tbody>\n",
       "    <tr>\n",
       "      <th>0</th>\n",
       "      <td>536365</td>\n",
       "      <td>85123A</td>\n",
       "      <td>WHITE HANGING HEART T-LIGHT HOLDER</td>\n",
       "      <td>6</td>\n",
       "      <td>12/1/2010 8:26</td>\n",
       "      <td>2.55</td>\n",
       "      <td>17850.0</td>\n",
       "      <td>United Kingdom</td>\n",
       "    </tr>\n",
       "    <tr>\n",
       "      <th>1</th>\n",
       "      <td>536365</td>\n",
       "      <td>71053</td>\n",
       "      <td>WHITE METAL LANTERN</td>\n",
       "      <td>6</td>\n",
       "      <td>12/1/2010 8:26</td>\n",
       "      <td>3.39</td>\n",
       "      <td>17850.0</td>\n",
       "      <td>United Kingdom</td>\n",
       "    </tr>\n",
       "    <tr>\n",
       "      <th>2</th>\n",
       "      <td>536365</td>\n",
       "      <td>84406B</td>\n",
       "      <td>CREAM CUPID HEARTS COAT HANGER</td>\n",
       "      <td>8</td>\n",
       "      <td>12/1/2010 8:26</td>\n",
       "      <td>2.75</td>\n",
       "      <td>17850.0</td>\n",
       "      <td>United Kingdom</td>\n",
       "    </tr>\n",
       "    <tr>\n",
       "      <th>3</th>\n",
       "      <td>536365</td>\n",
       "      <td>84029G</td>\n",
       "      <td>KNITTED UNION FLAG HOT WATER BOTTLE</td>\n",
       "      <td>6</td>\n",
       "      <td>12/1/2010 8:26</td>\n",
       "      <td>3.39</td>\n",
       "      <td>17850.0</td>\n",
       "      <td>United Kingdom</td>\n",
       "    </tr>\n",
       "    <tr>\n",
       "      <th>4</th>\n",
       "      <td>536365</td>\n",
       "      <td>84029E</td>\n",
       "      <td>RED WOOLLY HOTTIE WHITE HEART.</td>\n",
       "      <td>6</td>\n",
       "      <td>12/1/2010 8:26</td>\n",
       "      <td>3.39</td>\n",
       "      <td>17850.0</td>\n",
       "      <td>United Kingdom</td>\n",
       "    </tr>\n",
       "  </tbody>\n",
       "</table>\n",
       "</div>"
      ],
      "text/plain": [
       "  InvoiceNo StockCode                          Description  Quantity  \\\n",
       "0    536365    85123A   WHITE HANGING HEART T-LIGHT HOLDER         6   \n",
       "1    536365     71053                  WHITE METAL LANTERN         6   \n",
       "2    536365    84406B       CREAM CUPID HEARTS COAT HANGER         8   \n",
       "3    536365    84029G  KNITTED UNION FLAG HOT WATER BOTTLE         6   \n",
       "4    536365    84029E       RED WOOLLY HOTTIE WHITE HEART.         6   \n",
       "\n",
       "      InvoiceDate  UnitPrice  CustomerID         Country  \n",
       "0  12/1/2010 8:26       2.55     17850.0  United Kingdom  \n",
       "1  12/1/2010 8:26       3.39     17850.0  United Kingdom  \n",
       "2  12/1/2010 8:26       2.75     17850.0  United Kingdom  \n",
       "3  12/1/2010 8:26       3.39     17850.0  United Kingdom  \n",
       "4  12/1/2010 8:26       3.39     17850.0  United Kingdom  "
      ]
     },
     "execution_count": 2,
     "metadata": {},
     "output_type": "execute_result"
    }
   ],
   "source": [
    "import pandas as pd\n",
    "import matplotlib.pyplot as plt\n",
    "\n",
    "data = pd.read_csv('OnlineRetail.csv',encoding='latin')\n",
    "data.head()"
   ]
  },
  {
   "cell_type": "markdown",
   "id": "12f2b89b",
   "metadata": {},
   "source": [
    "# Step 2: Drop Missing Invoices or Descriptions"
   ]
  },
  {
   "cell_type": "code",
   "execution_count": 3,
   "id": "e0238ffa",
   "metadata": {},
   "outputs": [],
   "source": [
    "data.dropna(inplace=True,subset=['Description'])"
   ]
  },
  {
   "cell_type": "code",
   "execution_count": 4,
   "id": "d62a70f2",
   "metadata": {},
   "outputs": [
    {
     "data": {
      "text/plain": [
       "InvoiceNo           0\n",
       "StockCode           0\n",
       "Description         0\n",
       "Quantity            0\n",
       "InvoiceDate         0\n",
       "UnitPrice           0\n",
       "CustomerID     133626\n",
       "Country             0\n",
       "dtype: int64"
      ]
     },
     "execution_count": 4,
     "metadata": {},
     "output_type": "execute_result"
    }
   ],
   "source": [
    "data.isnull().sum()"
   ]
  },
  {
   "cell_type": "markdown",
   "id": "73b3ba19",
   "metadata": {},
   "source": [
    "# Step 3: Remove Canceled Invoices <BR> Start with letter 'c'"
   ]
  },
  {
   "cell_type": "code",
   "execution_count": 5,
   "id": "fbfc9836",
   "metadata": {},
   "outputs": [],
   "source": [
    "data = data[~ data['InvoiceNo'].str.lower().str.contains('c')]"
   ]
  },
  {
   "cell_type": "code",
   "execution_count": null,
   "id": "2c57f3a6",
   "metadata": {},
   "outputs": [],
   "source": []
  },
  {
   "cell_type": "code",
   "execution_count": 21,
   "id": "950f564a",
   "metadata": {},
   "outputs": [
    {
     "data": {
      "text/html": [
       "<div>\n",
       "<style scoped>\n",
       "    .dataframe tbody tr th:only-of-type {\n",
       "        vertical-align: middle;\n",
       "    }\n",
       "\n",
       "    .dataframe tbody tr th {\n",
       "        vertical-align: top;\n",
       "    }\n",
       "\n",
       "    .dataframe thead th {\n",
       "        text-align: right;\n",
       "    }\n",
       "</style>\n",
       "<table border=\"1\" class=\"dataframe\">\n",
       "  <thead>\n",
       "    <tr style=\"text-align: right;\">\n",
       "      <th></th>\n",
       "      <th>InvoiceNo</th>\n",
       "      <th>StockCode</th>\n",
       "      <th>Description</th>\n",
       "      <th>Quantity</th>\n",
       "      <th>InvoiceDate</th>\n",
       "      <th>UnitPrice</th>\n",
       "      <th>CustomerID</th>\n",
       "      <th>Country</th>\n",
       "      <th>TotalPrice</th>\n",
       "    </tr>\n",
       "  </thead>\n",
       "  <tbody>\n",
       "  </tbody>\n",
       "</table>\n",
       "</div>"
      ],
      "text/plain": [
       "Empty DataFrame\n",
       "Columns: [InvoiceNo, StockCode, Description, Quantity, InvoiceDate, UnitPrice, CustomerID, Country, TotalPrice]\n",
       "Index: []"
      ]
     },
     "execution_count": 21,
     "metadata": {},
     "output_type": "execute_result"
    }
   ],
   "source": [
    "data[data['InvoiceNo'].str.contains('c')].head()"
   ]
  },
  {
   "cell_type": "markdown",
   "id": "325c9d94",
   "metadata": {},
   "source": [
    "# Step 4: Keep Only Positive Quantities"
   ]
  },
  {
   "cell_type": "code",
   "execution_count": 7,
   "id": "3a507e51",
   "metadata": {},
   "outputs": [],
   "source": [
    "data.drop(data[data['Quantity'] < 0].index,inplace=True)"
   ]
  },
  {
   "cell_type": "code",
   "execution_count": 8,
   "id": "fef0c8a8",
   "metadata": {},
   "outputs": [
    {
     "data": {
      "text/plain": [
       "InvoiceNo      0\n",
       "StockCode      0\n",
       "Description    0\n",
       "Quantity       0\n",
       "InvoiceDate    0\n",
       "UnitPrice      0\n",
       "CustomerID     0\n",
       "Country        0\n",
       "dtype: int64"
      ]
     },
     "execution_count": 8,
     "metadata": {},
     "output_type": "execute_result"
    }
   ],
   "source": [
    "data[data['Quantity']< 0].count()"
   ]
  },
  {
   "cell_type": "code",
   "execution_count": null,
   "id": "ce55f75d",
   "metadata": {},
   "outputs": [],
   "source": []
  },
  {
   "cell_type": "markdown",
   "id": "4ba4bab1",
   "metadata": {},
   "source": [
    "# Step 5: Standardize Item Descriptions | Lower case and remove space"
   ]
  },
  {
   "cell_type": "code",
   "execution_count": 9,
   "id": "0a96250d",
   "metadata": {},
   "outputs": [],
   "source": [
    "data['Description'] = data['Description'].str.lower().str.strip()"
   ]
  },
  {
   "cell_type": "code",
   "execution_count": 10,
   "id": "5f1d9ae5",
   "metadata": {},
   "outputs": [
    {
     "data": {
      "text/html": [
       "<div>\n",
       "<style scoped>\n",
       "    .dataframe tbody tr th:only-of-type {\n",
       "        vertical-align: middle;\n",
       "    }\n",
       "\n",
       "    .dataframe tbody tr th {\n",
       "        vertical-align: top;\n",
       "    }\n",
       "\n",
       "    .dataframe thead th {\n",
       "        text-align: right;\n",
       "    }\n",
       "</style>\n",
       "<table border=\"1\" class=\"dataframe\">\n",
       "  <thead>\n",
       "    <tr style=\"text-align: right;\">\n",
       "      <th></th>\n",
       "      <th>InvoiceNo</th>\n",
       "      <th>StockCode</th>\n",
       "      <th>Description</th>\n",
       "      <th>Quantity</th>\n",
       "      <th>InvoiceDate</th>\n",
       "      <th>UnitPrice</th>\n",
       "      <th>CustomerID</th>\n",
       "      <th>Country</th>\n",
       "    </tr>\n",
       "  </thead>\n",
       "  <tbody>\n",
       "    <tr>\n",
       "      <th>0</th>\n",
       "      <td>536365</td>\n",
       "      <td>85123A</td>\n",
       "      <td>white hanging heart t-light holder</td>\n",
       "      <td>6</td>\n",
       "      <td>12/1/2010 8:26</td>\n",
       "      <td>2.55</td>\n",
       "      <td>17850.0</td>\n",
       "      <td>United Kingdom</td>\n",
       "    </tr>\n",
       "    <tr>\n",
       "      <th>1</th>\n",
       "      <td>536365</td>\n",
       "      <td>71053</td>\n",
       "      <td>white metal lantern</td>\n",
       "      <td>6</td>\n",
       "      <td>12/1/2010 8:26</td>\n",
       "      <td>3.39</td>\n",
       "      <td>17850.0</td>\n",
       "      <td>United Kingdom</td>\n",
       "    </tr>\n",
       "    <tr>\n",
       "      <th>2</th>\n",
       "      <td>536365</td>\n",
       "      <td>84406B</td>\n",
       "      <td>cream cupid hearts coat hanger</td>\n",
       "      <td>8</td>\n",
       "      <td>12/1/2010 8:26</td>\n",
       "      <td>2.75</td>\n",
       "      <td>17850.0</td>\n",
       "      <td>United Kingdom</td>\n",
       "    </tr>\n",
       "    <tr>\n",
       "      <th>3</th>\n",
       "      <td>536365</td>\n",
       "      <td>84029G</td>\n",
       "      <td>knitted union flag hot water bottle</td>\n",
       "      <td>6</td>\n",
       "      <td>12/1/2010 8:26</td>\n",
       "      <td>3.39</td>\n",
       "      <td>17850.0</td>\n",
       "      <td>United Kingdom</td>\n",
       "    </tr>\n",
       "    <tr>\n",
       "      <th>4</th>\n",
       "      <td>536365</td>\n",
       "      <td>84029E</td>\n",
       "      <td>red woolly hottie white heart.</td>\n",
       "      <td>6</td>\n",
       "      <td>12/1/2010 8:26</td>\n",
       "      <td>3.39</td>\n",
       "      <td>17850.0</td>\n",
       "      <td>United Kingdom</td>\n",
       "    </tr>\n",
       "    <tr>\n",
       "      <th>...</th>\n",
       "      <td>...</td>\n",
       "      <td>...</td>\n",
       "      <td>...</td>\n",
       "      <td>...</td>\n",
       "      <td>...</td>\n",
       "      <td>...</td>\n",
       "      <td>...</td>\n",
       "      <td>...</td>\n",
       "    </tr>\n",
       "    <tr>\n",
       "      <th>541904</th>\n",
       "      <td>581587</td>\n",
       "      <td>22613</td>\n",
       "      <td>pack of 20 spaceboy napkins</td>\n",
       "      <td>12</td>\n",
       "      <td>12/9/2011 12:50</td>\n",
       "      <td>0.85</td>\n",
       "      <td>12680.0</td>\n",
       "      <td>France</td>\n",
       "    </tr>\n",
       "    <tr>\n",
       "      <th>541905</th>\n",
       "      <td>581587</td>\n",
       "      <td>22899</td>\n",
       "      <td>children's apron dolly girl</td>\n",
       "      <td>6</td>\n",
       "      <td>12/9/2011 12:50</td>\n",
       "      <td>2.10</td>\n",
       "      <td>12680.0</td>\n",
       "      <td>France</td>\n",
       "    </tr>\n",
       "    <tr>\n",
       "      <th>541906</th>\n",
       "      <td>581587</td>\n",
       "      <td>23254</td>\n",
       "      <td>childrens cutlery dolly girl</td>\n",
       "      <td>4</td>\n",
       "      <td>12/9/2011 12:50</td>\n",
       "      <td>4.15</td>\n",
       "      <td>12680.0</td>\n",
       "      <td>France</td>\n",
       "    </tr>\n",
       "    <tr>\n",
       "      <th>541907</th>\n",
       "      <td>581587</td>\n",
       "      <td>23255</td>\n",
       "      <td>childrens cutlery circus parade</td>\n",
       "      <td>4</td>\n",
       "      <td>12/9/2011 12:50</td>\n",
       "      <td>4.15</td>\n",
       "      <td>12680.0</td>\n",
       "      <td>France</td>\n",
       "    </tr>\n",
       "    <tr>\n",
       "      <th>541908</th>\n",
       "      <td>581587</td>\n",
       "      <td>22138</td>\n",
       "      <td>baking set 9 piece retrospot</td>\n",
       "      <td>3</td>\n",
       "      <td>12/9/2011 12:50</td>\n",
       "      <td>4.95</td>\n",
       "      <td>12680.0</td>\n",
       "      <td>France</td>\n",
       "    </tr>\n",
       "  </tbody>\n",
       "</table>\n",
       "<p>530693 rows × 8 columns</p>\n",
       "</div>"
      ],
      "text/plain": [
       "       InvoiceNo StockCode                          Description  Quantity  \\\n",
       "0         536365    85123A   white hanging heart t-light holder         6   \n",
       "1         536365     71053                  white metal lantern         6   \n",
       "2         536365    84406B       cream cupid hearts coat hanger         8   \n",
       "3         536365    84029G  knitted union flag hot water bottle         6   \n",
       "4         536365    84029E       red woolly hottie white heart.         6   \n",
       "...          ...       ...                                  ...       ...   \n",
       "541904    581587     22613          pack of 20 spaceboy napkins        12   \n",
       "541905    581587     22899          children's apron dolly girl         6   \n",
       "541906    581587     23254         childrens cutlery dolly girl         4   \n",
       "541907    581587     23255      childrens cutlery circus parade         4   \n",
       "541908    581587     22138         baking set 9 piece retrospot         3   \n",
       "\n",
       "            InvoiceDate  UnitPrice  CustomerID         Country  \n",
       "0        12/1/2010 8:26       2.55     17850.0  United Kingdom  \n",
       "1        12/1/2010 8:26       3.39     17850.0  United Kingdom  \n",
       "2        12/1/2010 8:26       2.75     17850.0  United Kingdom  \n",
       "3        12/1/2010 8:26       3.39     17850.0  United Kingdom  \n",
       "4        12/1/2010 8:26       3.39     17850.0  United Kingdom  \n",
       "...                 ...        ...         ...             ...  \n",
       "541904  12/9/2011 12:50       0.85     12680.0          France  \n",
       "541905  12/9/2011 12:50       2.10     12680.0          France  \n",
       "541906  12/9/2011 12:50       4.15     12680.0          France  \n",
       "541907  12/9/2011 12:50       4.15     12680.0          France  \n",
       "541908  12/9/2011 12:50       4.95     12680.0          France  \n",
       "\n",
       "[530693 rows x 8 columns]"
      ]
     },
     "execution_count": 10,
     "metadata": {},
     "output_type": "execute_result"
    }
   ],
   "source": [
    "data"
   ]
  },
  {
   "cell_type": "markdown",
   "id": "2e771f5d",
   "metadata": {},
   "source": [
    "# Step 6: Filter for a Single Country (e.g., United Kingdom)"
   ]
  },
  {
   "cell_type": "code",
   "execution_count": 11,
   "id": "bf09b9db",
   "metadata": {},
   "outputs": [],
   "source": [
    "data = data[data['Country'] == 'United Kingdom']"
   ]
  },
  {
   "cell_type": "code",
   "execution_count": 12,
   "id": "5bf80eb0",
   "metadata": {},
   "outputs": [
    {
     "data": {
      "text/plain": [
       "Country\n",
       "United Kingdom    485694\n",
       "Name: count, dtype: int64"
      ]
     },
     "execution_count": 12,
     "metadata": {},
     "output_type": "execute_result"
    }
   ],
   "source": [
    "data.Country.value_counts()"
   ]
  },
  {
   "cell_type": "markdown",
   "id": "4639fb4e",
   "metadata": {},
   "source": [
    "# Step 7: Remove Duplicates"
   ]
  },
  {
   "cell_type": "code",
   "execution_count": 13,
   "id": "0c11c30c",
   "metadata": {},
   "outputs": [
    {
     "name": "stderr",
     "output_type": "stream",
     "text": [
      "C:\\Users\\mannp\\AppData\\Local\\Temp\\ipykernel_20796\\2282015914.py:1: SettingWithCopyWarning: \n",
      "A value is trying to be set on a copy of a slice from a DataFrame\n",
      "\n",
      "See the caveats in the documentation: https://pandas.pydata.org/pandas-docs/stable/user_guide/indexing.html#returning-a-view-versus-a-copy\n",
      "  data.drop_duplicates(inplace=True)\n"
     ]
    }
   ],
   "source": [
    "data.drop_duplicates(inplace=True)"
   ]
  },
  {
   "cell_type": "code",
   "execution_count": 14,
   "id": "24c68309",
   "metadata": {},
   "outputs": [
    {
     "data": {
      "text/plain": [
       "False    480551\n",
       "Name: count, dtype: int64"
      ]
     },
     "execution_count": 14,
     "metadata": {},
     "output_type": "execute_result"
    }
   ],
   "source": [
    "data.duplicated().value_counts()"
   ]
  },
  {
   "cell_type": "markdown",
   "id": "80a78da7",
   "metadata": {},
   "source": [
    "# Step 8: Add TotalPrice column , TotalPrice = Quantity *  UnitPrice"
   ]
  },
  {
   "cell_type": "code",
   "execution_count": 15,
   "id": "fbd53ab1",
   "metadata": {},
   "outputs": [
    {
     "name": "stderr",
     "output_type": "stream",
     "text": [
      "C:\\Users\\mannp\\AppData\\Local\\Temp\\ipykernel_20796\\1254887564.py:1: SettingWithCopyWarning: \n",
      "A value is trying to be set on a copy of a slice from a DataFrame.\n",
      "Try using .loc[row_indexer,col_indexer] = value instead\n",
      "\n",
      "See the caveats in the documentation: https://pandas.pydata.org/pandas-docs/stable/user_guide/indexing.html#returning-a-view-versus-a-copy\n",
      "  data['TotalPrice'] = data['Quantity'] * data['UnitPrice']\n"
     ]
    }
   ],
   "source": [
    "data['TotalPrice'] = data['Quantity'] * data['UnitPrice']"
   ]
  },
  {
   "cell_type": "code",
   "execution_count": 16,
   "id": "8e671655",
   "metadata": {},
   "outputs": [
    {
     "data": {
      "text/plain": [
       "0          15.30\n",
       "1          20.34\n",
       "2          22.00\n",
       "3          20.34\n",
       "4          20.34\n",
       "           ...  \n",
       "541889     23.40\n",
       "541890     23.60\n",
       "541891     30.00\n",
       "541892    214.80\n",
       "541893     70.80\n",
       "Name: TotalPrice, Length: 480551, dtype: float64"
      ]
     },
     "execution_count": 16,
     "metadata": {},
     "output_type": "execute_result"
    }
   ],
   "source": [
    "data['TotalPrice']"
   ]
  },
  {
   "cell_type": "markdown",
   "id": "5a4431bc",
   "metadata": {},
   "source": [
    "# Step 9 : Check for Top 10 Selling Products"
   ]
  },
  {
   "cell_type": "code",
   "execution_count": 17,
   "id": "a9e6cb3d",
   "metadata": {},
   "outputs": [
    {
     "data": {
      "text/html": [
       "<div>\n",
       "<style scoped>\n",
       "    .dataframe tbody tr th:only-of-type {\n",
       "        vertical-align: middle;\n",
       "    }\n",
       "\n",
       "    .dataframe tbody tr th {\n",
       "        vertical-align: top;\n",
       "    }\n",
       "\n",
       "    .dataframe thead th {\n",
       "        text-align: right;\n",
       "    }\n",
       "</style>\n",
       "<table border=\"1\" class=\"dataframe\">\n",
       "  <thead>\n",
       "    <tr style=\"text-align: right;\">\n",
       "      <th></th>\n",
       "      <th>InvoiceNo</th>\n",
       "      <th>StockCode</th>\n",
       "      <th>Description</th>\n",
       "      <th>Quantity</th>\n",
       "      <th>InvoiceDate</th>\n",
       "      <th>UnitPrice</th>\n",
       "      <th>CustomerID</th>\n",
       "      <th>Country</th>\n",
       "      <th>TotalPrice</th>\n",
       "    </tr>\n",
       "  </thead>\n",
       "  <tbody>\n",
       "    <tr>\n",
       "      <th>501885</th>\n",
       "      <td>578833</td>\n",
       "      <td>22107</td>\n",
       "      <td>pizza plate in box</td>\n",
       "      <td>1</td>\n",
       "      <td>11/25/2011 15:23</td>\n",
       "      <td>7.46</td>\n",
       "      <td>NaN</td>\n",
       "      <td>United Kingdom</td>\n",
       "      <td>7.46</td>\n",
       "    </tr>\n",
       "    <tr>\n",
       "      <th>501883</th>\n",
       "      <td>578833</td>\n",
       "      <td>22083</td>\n",
       "      <td>paper chain kit retrospot</td>\n",
       "      <td>1</td>\n",
       "      <td>11/25/2011 15:23</td>\n",
       "      <td>6.63</td>\n",
       "      <td>NaN</td>\n",
       "      <td>United Kingdom</td>\n",
       "      <td>6.63</td>\n",
       "    </tr>\n",
       "    <tr>\n",
       "      <th>501882</th>\n",
       "      <td>578833</td>\n",
       "      <td>22079</td>\n",
       "      <td>ribbon reel hearts design</td>\n",
       "      <td>1</td>\n",
       "      <td>11/25/2011 15:23</td>\n",
       "      <td>2.46</td>\n",
       "      <td>NaN</td>\n",
       "      <td>United Kingdom</td>\n",
       "      <td>2.46</td>\n",
       "    </tr>\n",
       "    <tr>\n",
       "      <th>501893</th>\n",
       "      <td>578833</td>\n",
       "      <td>22170</td>\n",
       "      <td>picture frame wood triple portrait</td>\n",
       "      <td>1</td>\n",
       "      <td>11/25/2011 15:23</td>\n",
       "      <td>13.29</td>\n",
       "      <td>NaN</td>\n",
       "      <td>United Kingdom</td>\n",
       "      <td>13.29</td>\n",
       "    </tr>\n",
       "    <tr>\n",
       "      <th>501892</th>\n",
       "      <td>578833</td>\n",
       "      <td>22166</td>\n",
       "      <td>wall mirror rectangle diamante pink</td>\n",
       "      <td>1</td>\n",
       "      <td>11/25/2011 15:23</td>\n",
       "      <td>15.79</td>\n",
       "      <td>NaN</td>\n",
       "      <td>United Kingdom</td>\n",
       "      <td>15.79</td>\n",
       "    </tr>\n",
       "    <tr>\n",
       "      <th>501875</th>\n",
       "      <td>578833</td>\n",
       "      <td>22024</td>\n",
       "      <td>rainy ladies birthday card</td>\n",
       "      <td>1</td>\n",
       "      <td>11/25/2011 15:23</td>\n",
       "      <td>0.83</td>\n",
       "      <td>NaN</td>\n",
       "      <td>United Kingdom</td>\n",
       "      <td>0.83</td>\n",
       "    </tr>\n",
       "    <tr>\n",
       "      <th>501873</th>\n",
       "      <td>578833</td>\n",
       "      <td>21945</td>\n",
       "      <td>strawberries  design flannel</td>\n",
       "      <td>1</td>\n",
       "      <td>11/25/2011 15:23</td>\n",
       "      <td>1.63</td>\n",
       "      <td>NaN</td>\n",
       "      <td>United Kingdom</td>\n",
       "      <td>1.63</td>\n",
       "    </tr>\n",
       "    <tr>\n",
       "      <th>501872</th>\n",
       "      <td>578833</td>\n",
       "      <td>21944</td>\n",
       "      <td>kittens design flannel</td>\n",
       "      <td>1</td>\n",
       "      <td>11/25/2011 15:23</td>\n",
       "      <td>1.63</td>\n",
       "      <td>NaN</td>\n",
       "      <td>United Kingdom</td>\n",
       "      <td>1.63</td>\n",
       "    </tr>\n",
       "    <tr>\n",
       "      <th>501871</th>\n",
       "      <td>578833</td>\n",
       "      <td>21943</td>\n",
       "      <td>cakes and rabbits design flannel</td>\n",
       "      <td>1</td>\n",
       "      <td>11/25/2011 15:23</td>\n",
       "      <td>1.63</td>\n",
       "      <td>NaN</td>\n",
       "      <td>United Kingdom</td>\n",
       "      <td>1.63</td>\n",
       "    </tr>\n",
       "    <tr>\n",
       "      <th>501870</th>\n",
       "      <td>578833</td>\n",
       "      <td>21942</td>\n",
       "      <td>skulls design flannel</td>\n",
       "      <td>1</td>\n",
       "      <td>11/25/2011 15:23</td>\n",
       "      <td>1.63</td>\n",
       "      <td>NaN</td>\n",
       "      <td>United Kingdom</td>\n",
       "      <td>1.63</td>\n",
       "    </tr>\n",
       "  </tbody>\n",
       "</table>\n",
       "</div>"
      ],
      "text/plain": [
       "       InvoiceNo StockCode                          Description  Quantity  \\\n",
       "501885    578833     22107                   pizza plate in box         1   \n",
       "501883    578833     22083            paper chain kit retrospot         1   \n",
       "501882    578833     22079            ribbon reel hearts design         1   \n",
       "501893    578833     22170   picture frame wood triple portrait         1   \n",
       "501892    578833     22166  wall mirror rectangle diamante pink         1   \n",
       "501875    578833     22024           rainy ladies birthday card         1   \n",
       "501873    578833     21945         strawberries  design flannel         1   \n",
       "501872    578833     21944               kittens design flannel         1   \n",
       "501871    578833     21943     cakes and rabbits design flannel         1   \n",
       "501870    578833     21942                skulls design flannel         1   \n",
       "\n",
       "             InvoiceDate  UnitPrice  CustomerID         Country  TotalPrice  \n",
       "501885  11/25/2011 15:23       7.46         NaN  United Kingdom        7.46  \n",
       "501883  11/25/2011 15:23       6.63         NaN  United Kingdom        6.63  \n",
       "501882  11/25/2011 15:23       2.46         NaN  United Kingdom        2.46  \n",
       "501893  11/25/2011 15:23      13.29         NaN  United Kingdom       13.29  \n",
       "501892  11/25/2011 15:23      15.79         NaN  United Kingdom       15.79  \n",
       "501875  11/25/2011 15:23       0.83         NaN  United Kingdom        0.83  \n",
       "501873  11/25/2011 15:23       1.63         NaN  United Kingdom        1.63  \n",
       "501872  11/25/2011 15:23       1.63         NaN  United Kingdom        1.63  \n",
       "501871  11/25/2011 15:23       1.63         NaN  United Kingdom        1.63  \n",
       "501870  11/25/2011 15:23       1.63         NaN  United Kingdom        1.63  "
      ]
     },
     "execution_count": 17,
     "metadata": {},
     "output_type": "execute_result"
    }
   ],
   "source": [
    "data.sort_values(by='Quantity',ascending=True).head(10)"
   ]
  },
  {
   "cell_type": "markdown",
   "id": "4e3f136f",
   "metadata": {},
   "source": [
    "# Step 10 : Identify Most Active Customers"
   ]
  },
  {
   "cell_type": "code",
   "execution_count": 18,
   "id": "d477b1b6",
   "metadata": {},
   "outputs": [
    {
     "data": {
      "text/html": [
       "<div>\n",
       "<style scoped>\n",
       "    .dataframe tbody tr th:only-of-type {\n",
       "        vertical-align: middle;\n",
       "    }\n",
       "\n",
       "    .dataframe tbody tr th {\n",
       "        vertical-align: top;\n",
       "    }\n",
       "\n",
       "    .dataframe thead th {\n",
       "        text-align: right;\n",
       "    }\n",
       "</style>\n",
       "<table border=\"1\" class=\"dataframe\">\n",
       "  <thead>\n",
       "    <tr style=\"text-align: right;\">\n",
       "      <th></th>\n",
       "      <th>InvoiceNo</th>\n",
       "      <th>StockCode</th>\n",
       "      <th>Description</th>\n",
       "      <th>Quantity</th>\n",
       "      <th>InvoiceDate</th>\n",
       "      <th>UnitPrice</th>\n",
       "      <th>CustomerID</th>\n",
       "      <th>Country</th>\n",
       "      <th>TotalPrice</th>\n",
       "    </tr>\n",
       "  </thead>\n",
       "  <tbody>\n",
       "    <tr>\n",
       "      <th>61619</th>\n",
       "      <td>541431</td>\n",
       "      <td>23166</td>\n",
       "      <td>medium ceramic top storage jar</td>\n",
       "      <td>74215</td>\n",
       "      <td>1/18/2011 10:01</td>\n",
       "      <td>1.04</td>\n",
       "      <td>12346.0</td>\n",
       "      <td>United Kingdom</td>\n",
       "      <td>77183.60</td>\n",
       "    </tr>\n",
       "    <tr>\n",
       "      <th>64853</th>\n",
       "      <td>541677</td>\n",
       "      <td>71459</td>\n",
       "      <td>hanging jam jar t-light holder</td>\n",
       "      <td>12</td>\n",
       "      <td>1/20/2011 14:01</td>\n",
       "      <td>0.85</td>\n",
       "      <td>12747.0</td>\n",
       "      <td>United Kingdom</td>\n",
       "      <td>10.20</td>\n",
       "    </tr>\n",
       "    <tr>\n",
       "      <th>64850</th>\n",
       "      <td>541677</td>\n",
       "      <td>82484</td>\n",
       "      <td>wood black board ant white finish</td>\n",
       "      <td>36</td>\n",
       "      <td>1/20/2011 14:01</td>\n",
       "      <td>5.55</td>\n",
       "      <td>12747.0</td>\n",
       "      <td>United Kingdom</td>\n",
       "      <td>199.80</td>\n",
       "    </tr>\n",
       "    <tr>\n",
       "      <th>64849</th>\n",
       "      <td>541677</td>\n",
       "      <td>21136</td>\n",
       "      <td>painted metal pears assorted</td>\n",
       "      <td>16</td>\n",
       "      <td>1/20/2011 14:01</td>\n",
       "      <td>1.69</td>\n",
       "      <td>12747.0</td>\n",
       "      <td>United Kingdom</td>\n",
       "      <td>27.04</td>\n",
       "    </tr>\n",
       "    <tr>\n",
       "      <th>64852</th>\n",
       "      <td>541677</td>\n",
       "      <td>82482</td>\n",
       "      <td>wooden picture frame white finish</td>\n",
       "      <td>12</td>\n",
       "      <td>1/20/2011 14:01</td>\n",
       "      <td>2.55</td>\n",
       "      <td>12747.0</td>\n",
       "      <td>United Kingdom</td>\n",
       "      <td>30.60</td>\n",
       "    </tr>\n",
       "    <tr>\n",
       "      <th>9759</th>\n",
       "      <td>537215</td>\n",
       "      <td>82484</td>\n",
       "      <td>wood black board ant white finish</td>\n",
       "      <td>36</td>\n",
       "      <td>12/5/2010 15:38</td>\n",
       "      <td>5.55</td>\n",
       "      <td>12747.0</td>\n",
       "      <td>United Kingdom</td>\n",
       "      <td>199.80</td>\n",
       "    </tr>\n",
       "    <tr>\n",
       "      <th>9760</th>\n",
       "      <td>537215</td>\n",
       "      <td>21136</td>\n",
       "      <td>painted metal pears assorted</td>\n",
       "      <td>8</td>\n",
       "      <td>12/5/2010 15:38</td>\n",
       "      <td>1.69</td>\n",
       "      <td>12747.0</td>\n",
       "      <td>United Kingdom</td>\n",
       "      <td>13.52</td>\n",
       "    </tr>\n",
       "    <tr>\n",
       "      <th>64851</th>\n",
       "      <td>541677</td>\n",
       "      <td>82494L</td>\n",
       "      <td>wooden frame antique white</td>\n",
       "      <td>12</td>\n",
       "      <td>1/20/2011 14:01</td>\n",
       "      <td>2.95</td>\n",
       "      <td>12747.0</td>\n",
       "      <td>United Kingdom</td>\n",
       "      <td>35.40</td>\n",
       "    </tr>\n",
       "    <tr>\n",
       "      <th>9754</th>\n",
       "      <td>537215</td>\n",
       "      <td>85124C</td>\n",
       "      <td>green juicy fruit photo frame</td>\n",
       "      <td>12</td>\n",
       "      <td>12/5/2010 15:38</td>\n",
       "      <td>2.55</td>\n",
       "      <td>12747.0</td>\n",
       "      <td>United Kingdom</td>\n",
       "      <td>30.60</td>\n",
       "    </tr>\n",
       "    <tr>\n",
       "      <th>9755</th>\n",
       "      <td>537215</td>\n",
       "      <td>85124B</td>\n",
       "      <td>blue juicy fruit photo frame</td>\n",
       "      <td>6</td>\n",
       "      <td>12/5/2010 15:38</td>\n",
       "      <td>2.55</td>\n",
       "      <td>12747.0</td>\n",
       "      <td>United Kingdom</td>\n",
       "      <td>15.30</td>\n",
       "    </tr>\n",
       "  </tbody>\n",
       "</table>\n",
       "</div>"
      ],
      "text/plain": [
       "      InvoiceNo StockCode                        Description  Quantity  \\\n",
       "61619    541431     23166     medium ceramic top storage jar     74215   \n",
       "64853    541677     71459     hanging jam jar t-light holder        12   \n",
       "64850    541677     82484  wood black board ant white finish        36   \n",
       "64849    541677     21136       painted metal pears assorted        16   \n",
       "64852    541677     82482  wooden picture frame white finish        12   \n",
       "9759     537215     82484  wood black board ant white finish        36   \n",
       "9760     537215     21136       painted metal pears assorted         8   \n",
       "64851    541677    82494L         wooden frame antique white        12   \n",
       "9754     537215    85124C      green juicy fruit photo frame        12   \n",
       "9755     537215    85124B       blue juicy fruit photo frame         6   \n",
       "\n",
       "           InvoiceDate  UnitPrice  CustomerID         Country  TotalPrice  \n",
       "61619  1/18/2011 10:01       1.04     12346.0  United Kingdom    77183.60  \n",
       "64853  1/20/2011 14:01       0.85     12747.0  United Kingdom       10.20  \n",
       "64850  1/20/2011 14:01       5.55     12747.0  United Kingdom      199.80  \n",
       "64849  1/20/2011 14:01       1.69     12747.0  United Kingdom       27.04  \n",
       "64852  1/20/2011 14:01       2.55     12747.0  United Kingdom       30.60  \n",
       "9759   12/5/2010 15:38       5.55     12747.0  United Kingdom      199.80  \n",
       "9760   12/5/2010 15:38       1.69     12747.0  United Kingdom       13.52  \n",
       "64851  1/20/2011 14:01       2.95     12747.0  United Kingdom       35.40  \n",
       "9754   12/5/2010 15:38       2.55     12747.0  United Kingdom       30.60  \n",
       "9755   12/5/2010 15:38       2.55     12747.0  United Kingdom       15.30  "
      ]
     },
     "execution_count": 18,
     "metadata": {},
     "output_type": "execute_result"
    }
   ],
   "source": [
    "data.sort_values(by='CustomerID',ascending=True).head(10)"
   ]
  },
  {
   "cell_type": "markdown",
   "id": "204aa446",
   "metadata": {},
   "source": [
    "# Step 11: Time-Based Analysis | Convert InvoiceDate to datetime and check popular months/hours."
   ]
  },
  {
   "cell_type": "code",
   "execution_count": 19,
   "id": "60aba45c",
   "metadata": {},
   "outputs": [
    {
     "name": "stderr",
     "output_type": "stream",
     "text": [
      "C:\\Users\\mannp\\AppData\\Local\\Temp\\ipykernel_20796\\2159608920.py:1: SettingWithCopyWarning: \n",
      "A value is trying to be set on a copy of a slice from a DataFrame.\n",
      "Try using .loc[row_indexer,col_indexer] = value instead\n",
      "\n",
      "See the caveats in the documentation: https://pandas.pydata.org/pandas-docs/stable/user_guide/indexing.html#returning-a-view-versus-a-copy\n",
      "  data['InvoiceDate'] = pd.to_datetime(data['InvoiceDate'])\n"
     ]
    },
    {
     "data": {
      "text/plain": [
       "InvoiceDate\n",
       "2011-10-31 14:41:00    1114\n",
       "2011-12-08 09:28:00     749\n",
       "2011-12-09 10:03:00     731\n",
       "2011-12-05 17:24:00     721\n",
       "2011-06-29 15:58:00     705\n",
       "                       ... \n",
       "2011-09-12 11:44:00       1\n",
       "2011-09-12 12:13:00       1\n",
       "2011-09-09 14:18:00       1\n",
       "2011-09-09 15:10:00       1\n",
       "2011-09-09 15:25:00       1\n",
       "Name: count, Length: 16943, dtype: int64"
      ]
     },
     "execution_count": 19,
     "metadata": {},
     "output_type": "execute_result"
    }
   ],
   "source": [
    "data['InvoiceDate'] = pd.to_datetime(data['InvoiceDate'])\n",
    "data['InvoiceDate'].value_counts()"
   ]
  },
  {
   "cell_type": "code",
   "execution_count": 20,
   "id": "5c6f6747",
   "metadata": {},
   "outputs": [
    {
     "data": {
      "text/plain": [
       "<Axes: >"
      ]
     },
     "execution_count": 20,
     "metadata": {},
     "output_type": "execute_result"
    },
    {
     "data": {
      "image/png": "[encoded data removed]",
      "text/plain": [
       "<Figure size 640x480 with 1 Axes>"
      ]
     },
     "metadata": {},
     "output_type": "display_data"
    }
   ],
   "source": [
    "data['InvoiceDate'].hist(bins=50)"
   ]
  },
  {
   "cell_type": "markdown",
   "id": "631b50e2",
   "metadata": {},
   "source": [
    "# Step 12: Convert to Basket Format "
   ]
  },
  {
   "cell_type": "markdown",
   "id": "f6c07972",
   "metadata": {},
   "source": [
    "Example\n",
    "<table border=\"1\">\n",
    "    <thead>\n",
    "        <tr>\n",
    "            <th>Transaction</th>\n",
    "            <th>Milk</th>\n",
    "            <th>Bread</th>\n",
    "            <th>Butter</th>\n",
    "        </tr>\n",
    "    </thead>\n",
    "    <tbody>\n",
    "        <tr><td>T1</td><td>1</td><td>1</td><td>1</td></tr>\n",
    "        <tr><td>T2</td><td>0</td><td>1</td><td>1</td></tr>\n",
    "        <tr><td>T3</td><td>1</td><td>0</td><td>0</td></tr>\n",
    "        <tr><td>T4</td><td>1</td><td>1</td><td>0</td></tr>\n",
    "        <tr><td>T5</td><td>0</td><td>1</td><td>1</td></tr>\n",
    "    </tbody>\n",
    "</table>\n"
   ]
  },
  {
   "cell_type": "code",
   "execution_count": null,
   "id": "0e753add",
   "metadata": {},
   "outputs": [],
   "source": []
  },
  {
   "cell_type": "code",
   "execution_count": null,
   "id": "25bea5cf",
   "metadata": {
    "scrolled": true
   },
   "outputs": [],
   "source": []
  },
  {
   "cell_type": "code",
   "execution_count": null,
   "id": "75a7f3be",
   "metadata": {},
   "outputs": [],
   "source": []
  },
  {
   "cell_type": "code",
   "execution_count": null,
   "id": "927ffc95",
   "metadata": {},
   "outputs": [],
   "source": []
  },
  {
   "cell_type": "markdown",
   "id": "2162b037",
   "metadata": {},
   "source": [
    "# Step:13 : Save Basket Format into CSV file"
   ]
  },
  {
   "cell_type": "code",
   "execution_count": null,
   "id": "5120def9",
   "metadata": {},
   "outputs": [],
   "source": []
  }
 ],
 "metadata": {
  "kernelspec": {
   "display_name": "Python 3",
   "language": "python",
   "name": "python3"
  },
  "language_info": {
   "codemirror_mode": {
    "name": "ipython",
    "version": 3
   },
   "file_extension": ".py",
   "mimetype": "text/x-python",
   "name": "python",
   "nbconvert_exporter": "python",
   "pygments_lexer": "ipython3",
   "version": "3.13.0"
  }
 },
 "nbformat": 4,
 "nbformat_minor": 5
}
